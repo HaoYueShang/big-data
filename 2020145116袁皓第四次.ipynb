{
 "cells": [
  {
   "cell_type": "code",
   "execution_count": null,
   "id": "7380b280",
   "metadata": {},
   "outputs": [],
   "source": [
    "from datascience import *\n",
    "\n",
    "hadoop = Table.read_table(\"hadoop.csv\")\n",
    "spark = Table.read_table(\"spark.csv\")\n",
    "hive = Table.read_table(\"hive.csv\")\n",
    "math = Table.read_table(\"高数监考表.csv\")"
   ]
  },
  {
   "cell_type": "code",
   "execution_count": null,
   "id": "fe8608b3",
   "metadata": {},
   "outputs": [],
   "source": [
    "def Inquire(path,name):\n",
    "    a = path.where(\"姓名\",name)\n",
    "    date = a[2]\n",
    "    time = a[3]\n",
    "    classroom = a[4]\n",
    "    subject =a[5]\n",
    "    return [date,time,classroom,subject]"
   ]
  },
  {
   "cell_type": "code",
   "execution_count": null,
   "id": "8fe9f5d2",
   "metadata": {},
   "outputs": [],
   "source": [
    "name = input(\"请输入要查询的姓名：\")\n",
    "content_hadoop = Inquire(hadoop,name)\n",
    "content_spark = Inquire(spark,name)\n",
    "content_hive = Inquire(hive,name)\n",
    "content_math = Inquire(math,name)"
   ]
  },
  {
   "cell_type": "code",
   "execution_count": null,
   "id": "ddce6574",
   "metadata": {},
   "outputs": [],
   "source": [
    "(content_hadoop,content_spark,content_hive,content_math)\n",
    "date = (content_hadoop[0],content_spark[0],content_hive[0],content_math[0])\n",
    "time = (content_hadoop[1],content_spark[1],content_hive[1],content_math[1])\n",
    "classroom = (content_hadoop[2],content_spark[2],content_hive[2],content_math[2])\n",
    "subject = (content_hadoop[3],content_spark[3],content_hive[3],content_math[3])\n",
    "table = Table().with_columns(\"日期\",date,\"时间\",time,\"考场\",classroom,\"科目\",subject)\n",
    "table"
   ]
  },
  {
   "cell_type": "code",
   "execution_count": null,
   "id": "269b33bf",
   "metadata": {},
   "outputs": [],
   "source": []
  },
  {
   "cell_type": "code",
   "execution_count": null,
   "id": "05a13ed7",
   "metadata": {},
   "outputs": [],
   "source": []
  }
 ],
 "metadata": {
  "kernelspec": {
   "display_name": "Python 3 (ipykernel)",
   "language": "python",
   "name": "python3"
  },
  "language_info": {
   "codemirror_mode": {
    "name": "ipython",
    "version": 3
   },
   "file_extension": ".py",
   "mimetype": "text/x-python",
   "name": "python",
   "nbconvert_exporter": "python",
   "pygments_lexer": "ipython3",
   "version": "3.9.5"
  }
 },
 "nbformat": 4,
 "nbformat_minor": 5
}
