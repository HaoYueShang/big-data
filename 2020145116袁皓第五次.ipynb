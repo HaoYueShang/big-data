{
 "cells": [
  {
   "cell_type": "code",
   "execution_count": 159,
   "id": "d57f7fc7",
   "metadata": {
    "scrolled": false
   },
   "outputs": [],
   "source": [
    "from matplotlib import pyplot as plt\n",
    "from datascience import *\n",
    "\n",
    "import matplotlib\n",
    "matplotlib.use('TkAgg')\n",
    "\n",
    "def extract_rank(data,name):\n",
    "    temp = data.where('姓名',are.equal_to(name)).column(11).item(0)\n",
    "    return temp\n",
    "\n",
    "data1 = Table.read_table('20211105-utf-8.csv')\n",
    "data2 = Table.read_table('20211110-utf-8.csv')\n",
    "data3 = Table.read_table('20211109-utf-8.csv')\n",
    "data4 = Table.read_table('20211108-utf-8.csv')\n",
    "data5 = Table.read_table('20211107-utf-8.csv')\n",
    "data6 = Table.read_table('20211106-utf-8.csv')\n",
    "data7 = Table.read_table('20211109-1-utf-8.csv')\n",
    "\n",
    "data = [data1,data2,data3,data4,data5,data6,data7]"
   ]
  },
  {
   "cell_type": "code",
   "execution_count": 160,
   "id": "cfd3cd7f",
   "metadata": {},
   "outputs": [
    {
     "name": "stdout",
     "output_type": "stream",
     "text": [
      "请输要对比的同学名字：周靖珊\n"
     ]
    }
   ],
   "source": [
    "name1 = '黄思哲'\n",
    "name2 = (input('请输要对比的同学名字：'))"
   ]
  },
  {
   "cell_type": "code",
   "execution_count": 161,
   "id": "9f8b6f6e",
   "metadata": {},
   "outputs": [],
   "source": [
    "rank = []\n",
    "ranl = []\n",
    "for i in range(0,7):\n",
    "    rank.append(extract_rank(data[i],name1))\n",
    "    ranl.append(extract_rank(data[i],name2))"
   ]
  },
  {
   "cell_type": "code",
   "execution_count": 167,
   "id": "d6b290dc",
   "metadata": {},
   "outputs": [],
   "source": [
    "results1 = Table().with_columns('考试序号',make_array(1,2,3,4,5,6,7),'年级排名',rank)\n",
    "results2 = Table().with_columns('考试序号',make_array(1,2,3,4,5,6,7),'年级排名',ranl)\n",
    "results1.show()\n",
    "results2.show()"
   ]
  },
  {
   "cell_type": "code",
   "execution_count": 162,
   "id": "5b6561d7",
   "metadata": {},
   "outputs": [
    {
     "data": {
      "text/plain": [
       "[<matplotlib.lines.Line2D at 0x277b1ee6a90>]"
      ]
     },
     "execution_count": 162,
     "metadata": {},
     "output_type": "execute_result"
    }
   ],
   "source": [
    "plt.plot(make_array(1,2,3,4,5,6,7),rank,'o--',label=name1)\n",
    "plt.plot(make_array(1,2,3,4,5,6,7),ranl,'o--',label=name2)"
   ]
  },
  {
   "cell_type": "code",
   "execution_count": 163,
   "id": "48b6ee89",
   "metadata": {},
   "outputs": [
    {
     "data": {
      "text/plain": [
       "Text(0, 0.5, '年级RANK')"
      ]
     },
     "execution_count": 163,
     "metadata": {},
     "output_type": "execute_result"
    }
   ],
   "source": [
    "plt.xlabel('历次考试')\n",
    "plt.ylabel('年级RANK')"
   ]
  },
  {
   "cell_type": "code",
   "execution_count": 164,
   "id": "408bcb2b",
   "metadata": {},
   "outputs": [
    {
     "data": {
      "text/plain": [
       "<matplotlib.legend.Legend at 0x277b1e9e8b0>"
      ]
     },
     "execution_count": 164,
     "metadata": {},
     "output_type": "execute_result"
    }
   ],
   "source": [
    "plt.axis([0,10,650,150])\n",
    "plt.legend(loc='upper right')"
   ]
  },
  {
   "cell_type": "code",
   "execution_count": 165,
   "id": "57284446",
   "metadata": {},
   "outputs": [],
   "source": [
    "plt.rcParams['font.sans-serif']=['Microsoft YaHei']"
   ]
  },
  {
   "cell_type": "code",
   "execution_count": 166,
   "id": "64502a4e",
   "metadata": {},
   "outputs": [],
   "source": [
    "plt.grid()\n",
    "plt.show()"
   ]
  }
 ],
 "metadata": {
  "kernelspec": {
   "display_name": "Python 3 (ipykernel)",
   "language": "python",
   "name": "python3"
  },
  "language_info": {
   "codemirror_mode": {
    "name": "ipython",
    "version": 3
   },
   "file_extension": ".py",
   "mimetype": "text/x-python",
   "name": "python",
   "nbconvert_exporter": "python",
   "pygments_lexer": "ipython3",
   "version": "3.9.5"
  }
 },
 "nbformat": 4,
 "nbformat_minor": 5
}
